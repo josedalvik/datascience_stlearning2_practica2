{
 "cells": [
  {
   "cell_type": "markdown",
   "id": "1785f9d6",
   "metadata": {},
   "source": [
    "<b>Universidad Galileo</b><br/>\n",
    "<b>Maestría de Ciencia de Datos</b><br/>\n",
    "<b>Statistical Learning I</b><br/>\n",
    "<b>Jose Godoy</b><br/>\n",
    "<b>Carnet 22000570</b><br/>\n",
    "<b>30 de julio 2022</b><br/>"
   ]
  },
  {
   "cell_type": "markdown",
   "id": "427a8eeb",
   "metadata": {},
   "source": [
    "# 1. Cargando librerías"
   ]
  },
  {
   "cell_type": "code",
   "execution_count": 1,
   "id": "4bdf258b",
   "metadata": {},
   "outputs": [],
   "source": [
    "import numpy as np\n",
    "import pandas as pd\n",
    "import matplotlib.pyplot as plt\n",
    "from scipy.stats import multivariate_normal\n",
    "from sklearn.metrics import f1_score"
   ]
  },
  {
   "cell_type": "markdown",
   "id": "a19bc764",
   "metadata": {},
   "source": [
    "# 2. Funciones"
   ]
  },
  {
   "cell_type": "markdown",
   "id": "97857908",
   "metadata": {},
   "source": [
    "Estimación normal"
   ]
  },
  {
   "cell_type": "code",
   "execution_count": 2,
   "id": "edcd8060",
   "metadata": {},
   "outputs": [],
   "source": [
    "def estimateGaussian(dataset):\n",
    "    mu = np.mean(dataset, axis=0)\n",
    "    sigma = np.cov(dataset.T)\n",
    "    return mu, sigma"
   ]
  },
  {
   "cell_type": "markdown",
   "id": "51360150",
   "metadata": {},
   "source": [
    "Normal multivariable"
   ]
  },
  {
   "cell_type": "code",
   "execution_count": 3,
   "id": "b30e7c54",
   "metadata": {},
   "outputs": [],
   "source": [
    "def multivariateGaussian(dataset, mu, sigma):\n",
    "    p = multivariate_normal(mean=mu, cov=sigma)\n",
    "    return p.pdf(dataset)"
   ]
  },
  {
   "cell_type": "markdown",
   "id": "524c13d3",
   "metadata": {},
   "source": [
    "Selección de límite"
   ]
  },
  {
   "cell_type": "code",
   "execution_count": 4,
   "id": "6f073f58",
   "metadata": {},
   "outputs": [],
   "source": [
    "def selectThresholdByCV(probs, gt):\n",
    "    best_epsilon = 0\n",
    "    best_f1 = 0\n",
    "    f = 0\n",
    "    stepsize = (max(probs) - min(probs)) / 1000;\n",
    "    epsilons = np.arange(min(probs), max(probs), stepsize)\n",
    "    for epsilon in np.nditer(epsilons):\n",
    "        predictions = (probs < epsilon)\n",
    "        f = f1_score(gt, predictions, average = \"binary\")\n",
    "        if f > best_f1:\n",
    "            best_f1 = f\n",
    "            best_epsilon = epsilon\n",
    "    return best_f1, best_epsilon"
   ]
  },
  {
   "cell_type": "markdown",
   "id": "e38f06a6",
   "metadata": {},
   "source": [
    "# 3. Carga de datos"
   ]
  },
  {
   "cell_type": "code",
   "execution_count": 5,
   "id": "861445d5",
   "metadata": {},
   "outputs": [],
   "source": [
    "xls = pd.ExcelFile('estaturas.xlsx')\n",
    "normales = pd.read_excel(xls, 'normales')\n",
    "valtest_normales = pd.read_excel(xls, 'valtest(normales)')\n",
    "valtest_anomalias = pd.read_excel(xls, 'valtest(anomalias)')"
   ]
  },
  {
   "cell_type": "markdown",
   "id": "61a057e6",
   "metadata": {},
   "source": [
    "Renombrando columnas"
   ]
  },
  {
   "cell_type": "code",
   "execution_count": 6,
   "id": "8a227a7a",
   "metadata": {},
   "outputs": [],
   "source": [
    "normales = pd.DataFrame({\"altura\": normales.iloc[:,0], \"edad\": normales.iloc[:,1]})\n",
    "valtest_normales = pd.DataFrame({\"altura\": valtest_normales.iloc[:,0], \"edad\": valtest_normales.iloc[:,1]})\n",
    "valtest_anomalias = pd.DataFrame({\"altura\": valtest_anomalias.iloc[:,0], \"edad\": valtest_anomalias.iloc[:,1]})"
   ]
  },
  {
   "cell_type": "markdown",
   "id": "a11afce1",
   "metadata": {},
   "source": [
    "Estadísticos"
   ]
  },
  {
   "cell_type": "code",
   "execution_count": 7,
   "id": "9915c20b",
   "metadata": {},
   "outputs": [],
   "source": [
    "altura_mean = normales.altura.mean(axis=0)\n",
    "altura_std = normales.altura.std(axis=0)\n",
    "edad_mean = normales.edad.mean(axis=0)\n",
    "edad_std = normales.edad.std(axis=0)"
   ]
  },
  {
   "cell_type": "markdown",
   "id": "d57a9e30",
   "metadata": {},
   "source": [
    "Normalización"
   ]
  },
  {
   "cell_type": "code",
   "execution_count": 8,
   "id": "523f1f00",
   "metadata": {},
   "outputs": [],
   "source": [
    "normales_n = normales.copy()\n",
    "normales_n.altura = (normales.altura-altura_mean)/altura_std\n",
    "normales_n.edad = (normales.edad-edad_mean)/edad_std\n",
    "\n",
    "valtest_normales_n = valtest_normales.copy()\n",
    "valtest_normales_n.altura = (valtest_normales.altura-altura_mean)/altura_std\n",
    "valtest_normales_n.edad = (valtest_normales.edad-edad_mean)/edad_std\n",
    "\n",
    "valtest_anomalias_n = valtest_anomalias.copy()\n",
    "valtest_anomalias_n.altura = (valtest_anomalias.altura-altura_mean)/altura_std\n",
    "valtest_anomalias_n.edad = (valtest_anomalias.edad-edad_mean)/edad_std"
   ]
  },
  {
   "cell_type": "markdown",
   "id": "d550fce4",
   "metadata": {},
   "source": [
    "# 4. Entrenamiento"
   ]
  },
  {
   "cell_type": "code",
   "execution_count": 9,
   "id": "562235c9",
   "metadata": {},
   "outputs": [],
   "source": [
    "mu, sigma = estimateGaussian(normales_n)\n",
    "p = multivariateGaussian(normales_n, mu, sigma)"
   ]
  },
  {
   "cell_type": "markdown",
   "id": "26c72502",
   "metadata": {},
   "source": [
    "# 5. Creando set de validación y pruebas"
   ]
  },
  {
   "cell_type": "markdown",
   "id": "7e9106ac",
   "metadata": {},
   "source": [
    "Validación"
   ]
  },
  {
   "cell_type": "code",
   "execution_count": 10,
   "id": "192d458e",
   "metadata": {},
   "outputs": [],
   "source": [
    "# Y = 0\n",
    "validacion_n_0 = valtest_normales_n[0:int(np.floor(len(valtest_normales_n)/2))]\n",
    "validacion_0 = valtest_normales[0:int(np.floor(len(valtest_normales_n)/2))]\n",
    "# Y = 1\n",
    "validacion_n_1 = valtest_anomalias_n[0:int(np.floor(len(valtest_anomalias_n)/2))]\n",
    "validacion_1 = valtest_anomalias[0:int(np.floor(len(valtest_anomalias_n)/2))]\n",
    "# Uniendo\n",
    "validacion_n = pd.concat([validacion_n_0, validacion_n_1])\n",
    "validacion = pd.concat([validacion_0, validacion_1])"
   ]
  },
  {
   "cell_type": "markdown",
   "id": "df82b62f",
   "metadata": {},
   "source": [
    "Pruebas"
   ]
  },
  {
   "cell_type": "code",
   "execution_count": 11,
   "id": "101c656d",
   "metadata": {},
   "outputs": [],
   "source": [
    "# Y = 0\n",
    "pruebas_n_0 = valtest_normales_n[int(np.floor(len(valtest_normales_n)/2)):len(valtest_normales_n)]\n",
    "pruebas_0 = valtest_normales[int(np.floor(len(valtest_normales_n)/2)):len(valtest_normales_n)]\n",
    "# Y = 1\n",
    "pruebas_n_1 = valtest_anomalias_n[int(np.floor(len(valtest_anomalias_n)/2)):len(valtest_anomalias_n)]\n",
    "pruebas_1 = valtest_anomalias[int(np.floor(len(valtest_anomalias_n)/2)):len(valtest_anomalias_n)]\n",
    "# Uniendo\n",
    "pruebas_n = pd.concat([pruebas_n_0, pruebas_n_1])\n",
    "pruebas = pd.concat([pruebas_0, pruebas_1])"
   ]
  },
  {
   "cell_type": "markdown",
   "id": "f1313755",
   "metadata": {},
   "source": [
    "# 6. Validación de datos"
   ]
  },
  {
   "cell_type": "code",
   "execution_count": 12,
   "id": "6a6338f4",
   "metadata": {},
   "outputs": [],
   "source": [
    "p_cv = multivariateGaussian(validacion_n, mu, sigma)\n",
    "f = np.arange(start=0, stop=len(validacion_n))<int(np.floor(len(valtest_normales_n)/2))\n",
    "fscore, ep = selectThresholdByCV(p_cv, f)"
   ]
  },
  {
   "cell_type": "code",
   "execution_count": 13,
   "id": "58732312",
   "metadata": {},
   "outputs": [
    {
     "data": {
      "image/png": "[encoded data removed]",
      "text/plain": [
       "<Figure size 432x288 with 1 Axes>"
      ]
     },
     "metadata": {
      "needs_background": "light"
     },
     "output_type": "display_data"
    }
   ],
   "source": [
    "outliers = np.asarray(np.where(p < ep))[0]\n",
    "plt.figure()\n",
    "plt.xlabel(\"Estatura (metros)\")\n",
    "plt.ylabel(\"Edad (años)\")\n",
    "plt.plot(normales.iloc[:,0], normales.iloc[:,1], \"bx\")\n",
    "plt.plot(normales.iloc[outliers,0], normales.iloc[outliers,1], \"ro\")\n",
    "plt.show()"
   ]
  },
  {
   "cell_type": "markdown",
   "id": "2b93e0d5",
   "metadata": {},
   "source": [
    "# 7. Prueba"
   ]
  },
  {
   "cell_type": "code",
   "execution_count": 14,
   "id": "c75195be",
   "metadata": {},
   "outputs": [
    {
     "data": {
      "image/png": "[encoded data removed]",
      "text/plain": [
       "<Figure size 432x288 with 1 Axes>"
      ]
     },
     "metadata": {
      "needs_background": "light"
     },
     "output_type": "display_data"
    }
   ],
   "source": [
    "p_pr = multivariateGaussian(pruebas_n, mu, sigma)\n",
    "outliers = np.asarray(np.where(p_pr < ep))[0]\n",
    "plt.figure()\n",
    "plt.xlabel(\"Estatura (metros)\")\n",
    "plt.ylabel(\"Edad (años)\")\n",
    "plt.plot(pruebas.iloc[:,0], pruebas.iloc[:,1], \"bx\")\n",
    "plt.plot(pruebas.iloc[outliers,0], pruebas.iloc[outliers,1], \"ro\")\n",
    "plt.show()"
   ]
  },
  {
   "cell_type": "markdown",
   "id": "bac760db",
   "metadata": {},
   "source": [
    "Acercamiento"
   ]
  },
  {
   "cell_type": "code",
   "execution_count": 15,
   "id": "f608eaf0",
   "metadata": {},
   "outputs": [
    {
     "data": {
      "image/png": "[encoded data removed]",
      "text/plain": [
       "<Figure size 432x288 with 1 Axes>"
      ]
     },
     "metadata": {
      "needs_background": "light"
     },
     "output_type": "display_data"
    }
   ],
   "source": [
    "plt.plot(pruebas.iloc[0:4,0], pruebas.iloc[0:4,1], \"bx\")\n",
    "plt.plot(pruebas.iloc[outliers[outliers<4],0], pruebas.iloc[outliers[outliers<4],1], \"ro\")\n",
    "plt.show()"
   ]
  },
  {
   "cell_type": "markdown",
   "id": "2c5cdb52",
   "metadata": {},
   "source": [
    "Tabla"
   ]
  },
  {
   "cell_type": "code",
   "execution_count": 16,
   "id": "8190936a",
   "metadata": {},
   "outputs": [
    {
     "data": {
      "text/html": [
       "<div>\n",
       "<style scoped>\n",
       "    .dataframe tbody tr th:only-of-type {\n",
       "        vertical-align: middle;\n",
       "    }\n",
       "\n",
       "    .dataframe tbody tr th {\n",
       "        vertical-align: top;\n",
       "    }\n",
       "\n",
       "    .dataframe thead th {\n",
       "        text-align: right;\n",
       "    }\n",
       "</style>\n",
       "<table border=\"1\" class=\"dataframe\">\n",
       "  <thead>\n",
       "    <tr style=\"text-align: right;\">\n",
       "      <th></th>\n",
       "      <th>altura</th>\n",
       "      <th>edad</th>\n",
       "      <th>real</th>\n",
       "      <th>prediccion</th>\n",
       "    </tr>\n",
       "  </thead>\n",
       "  <tbody>\n",
       "    <tr>\n",
       "      <th>4</th>\n",
       "      <td>1.82</td>\n",
       "      <td>30.0</td>\n",
       "      <td>True</td>\n",
       "      <td>False</td>\n",
       "    </tr>\n",
       "    <tr>\n",
       "      <th>5</th>\n",
       "      <td>1.76</td>\n",
       "      <td>32.0</td>\n",
       "      <td>True</td>\n",
       "      <td>False</td>\n",
       "    </tr>\n",
       "    <tr>\n",
       "      <th>6</th>\n",
       "      <td>1.79</td>\n",
       "      <td>31.0</td>\n",
       "      <td>True</td>\n",
       "      <td>False</td>\n",
       "    </tr>\n",
       "    <tr>\n",
       "      <th>7</th>\n",
       "      <td>1.61</td>\n",
       "      <td>31.0</td>\n",
       "      <td>True</td>\n",
       "      <td>True</td>\n",
       "    </tr>\n",
       "    <tr>\n",
       "      <th>2</th>\n",
       "      <td>0.15</td>\n",
       "      <td>250.0</td>\n",
       "      <td>False</td>\n",
       "      <td>True</td>\n",
       "    </tr>\n",
       "    <tr>\n",
       "      <th>3</th>\n",
       "      <td>150.00</td>\n",
       "      <td>14.0</td>\n",
       "      <td>False</td>\n",
       "      <td>True</td>\n",
       "    </tr>\n",
       "  </tbody>\n",
       "</table>\n",
       "</div>"
      ],
      "text/plain": [
       "   altura   edad   real  prediccion\n",
       "4    1.82   30.0   True       False\n",
       "5    1.76   32.0   True       False\n",
       "6    1.79   31.0   True       False\n",
       "7    1.61   31.0   True        True\n",
       "2    0.15  250.0  False        True\n",
       "3  150.00   14.0  False        True"
      ]
     },
     "execution_count": 16,
     "metadata": {},
     "output_type": "execute_result"
    }
   ],
   "source": [
    "tabla_final = pruebas.copy()\n",
    "tabla_final[\"real\"] = np.arange(start=0, stop=len(pruebas)) < int(np.floor(len(valtest_normales_n)/2))\n",
    "tabla_final[\"prediccion\"] = False\n",
    "tabla_final.iloc[outliers,3] = True\n",
    "tabla_final"
   ]
  },
  {
   "cell_type": "markdown",
   "id": "ef35691a",
   "metadata": {},
   "source": [
    "# 8. Estadísticos utilizados:"
   ]
  },
  {
   "cell_type": "code",
   "execution_count": 17,
   "id": "37cb62b6",
   "metadata": {},
   "outputs": [
    {
     "name": "stdout",
     "output_type": "stream",
     "text": [
      "media -1.3932210505100003e-15\n",
      "covarianza\r\n",
      "\n",
      "[[1.         0.10361644]\n",
      " [0.10361644 1.        ]]\n",
      "\n",
      "fscore 0.6666666666666665\n",
      "probabilidad 0.04994164309954363\n"
     ]
    }
   ],
   "source": [
    "print(\"media\", mu[0])\n",
    "print(\"covarianza\\r\\n\")\n",
    "print(sigma)\n",
    "print(\"\")\n",
    "print(\"fscore\", fscore)\n",
    "print(\"probabilidad\", ep)"
   ]
  }
 ],
 "metadata": {
  "kernelspec": {
   "display_name": "Python 3 (ipykernel)",
   "language": "python",
   "name": "python3"
  },
  "language_info": {
   "codemirror_mode": {
    "name": "ipython",
    "version": 3
   },
   "file_extension": ".py",
   "mimetype": "text/x-python",
   "name": "python",
   "nbconvert_exporter": "python",
   "pygments_lexer": "ipython3",
   "version": "3.9.12"
  }
 },
 "nbformat": 4,
 "nbformat_minor": 5
}
