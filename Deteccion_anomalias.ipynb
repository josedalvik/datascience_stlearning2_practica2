{
 "cells": [
  {
   "cell_type": "markdown",
   "id": "1785f9d6",
   "metadata": {},
   "source": [
    "<b>Universidad Galileo</b><br/>\n",
    "<b>Maestría de Ciencia de Datos</b><br/>\n",
    "<b>Statistical Learning I</b><br/>\n",
    "<b>Jose Godoy</b><br/>\n",
    "<b>Carnet 22000570</b><br/>\n",
    "<b>30 de julio 2022</b><br/>"
   ]
  },
  {
   "cell_type": "markdown",
   "id": "427a8eeb",
   "metadata": {},
   "source": [
    "# 1. Cargando librerías"
   ]
  },
  {
   "cell_type": "code",
   "execution_count": 1,
   "id": "4bdf258b",
   "metadata": {},
   "outputs": [],
   "source": [
    "import numpy as np\n",
    "import pandas as pd\n",
    "import matplotlib.pyplot as plt\n",
    "from scipy.stats import multivariate_normal\n",
    "from sklearn.metrics import f1_score"
   ]
  },
  {
   "cell_type": "markdown",
   "id": "a19bc764",
   "metadata": {},
   "source": [
    "# 2. Funciones"
   ]
  },
  {
   "cell_type": "markdown",
   "id": "97857908",
   "metadata": {},
   "source": [
    "Estimación normal"
   ]
  },
  {
   "cell_type": "code",
   "execution_count": 2,
   "id": "edcd8060",
   "metadata": {},
   "outputs": [],
   "source": [
    "def estimateGaussian(dataset):\n",
    "    mu = np.mean(dataset, axis=0)\n",
    "    sigma = np.cov(dataset.T)\n",
    "    return mu, sigma"
   ]
  },
  {
   "cell_type": "markdown",
   "id": "51360150",
   "metadata": {},
   "source": [
    "Normal multivariable"
   ]
  },
  {
   "cell_type": "code",
   "execution_count": 3,
   "id": "b30e7c54",
   "metadata": {},
   "outputs": [],
   "source": [
    "def multivariateGaussian(dataset, mu, sigma):\n",
    "    p = multivariate_normal(mean=mu, cov=sigma)\n",
    "    return p.pdf(dataset)"
   ]
  },
  {
   "cell_type": "markdown",
   "id": "524c13d3",
   "metadata": {},
   "source": [
    "Selección de límite"
   ]
  },
  {
   "cell_type": "code",
   "execution_count": 55,
   "id": "6f073f58",
   "metadata": {},
   "outputs": [],
   "source": [
    "def selectThresholdByCV(probs, gt):\n",
    "    best_epsilon = 0\n",
    "    best_f1 = 0\n",
    "    f = 0\n",
    "    stepsize = (max(probs) - min(probs)) / 1000;\n",
    "    epsilons = np.arange(min(probs), max(probs), stepsize)\n",
    "    for epsilon in np.nditer(epsilons):\n",
    "        predictions = (probs < epsilon)\n",
    "        f = f1_score(gt, predictions, average = \"binary\")\n",
    "        if f > best_f1:\n",
    "            best_f1 = f\n",
    "            best_epsilon = epsilon\n",
    "    return best_f1, best_epsilon"
   ]
  },
  {
   "cell_type": "markdown",
   "id": "e38f06a6",
   "metadata": {},
   "source": [
    "# 3. Carga de datos"
   ]
  },
  {
   "cell_type": "code",
   "execution_count": 5,
   "id": "861445d5",
   "metadata": {},
   "outputs": [],
   "source": [
    "xls = pd.ExcelFile('estaturas.xlsx')\n",
    "normales = pd.read_excel(xls, 'normales')\n",
    "valtest_normales = pd.read_excel(xls, 'valtest(normales)')\n",
    "valtest_anomalias = pd.read_excel(xls, 'valtest(anomalias)')"
   ]
  },
  {
   "cell_type": "markdown",
   "id": "61a057e6",
   "metadata": {},
   "source": [
    "Renombrando columnas"
   ]
  },
  {
   "cell_type": "code",
   "execution_count": 6,
   "id": "8a227a7a",
   "metadata": {},
   "outputs": [],
   "source": [
    "normales = pd.DataFrame({\"altura\": normales.iloc[:,0], \"edad\": normales.iloc[:,1]})\n",
    "valtest_normales = pd.DataFrame({\"altura\": valtest_normales.iloc[:,0], \"edad\": valtest_normales.iloc[:,1]})\n",
    "valtest_anomalias = pd.DataFrame({\"altura\": valtest_anomalias.iloc[:,0], \"edad\": valtest_anomalias.iloc[:,1]})"
   ]
  },
  {
   "cell_type": "markdown",
   "id": "a11afce1",
   "metadata": {},
   "source": [
    "Estadísticos"
   ]
  },
  {
   "cell_type": "code",
   "execution_count": 7,
   "id": "9915c20b",
   "metadata": {},
   "outputs": [],
   "source": [
    "altura_mean = normales.altura.mean(axis=0)\n",
    "altura_std = normales.altura.std(axis=0)\n",
    "edad_mean = normales.edad.mean(axis=0)\n",
    "edad_std = normales.edad.std(axis=0)"
   ]
  },
  {
   "cell_type": "markdown",
   "id": "d57a9e30",
   "metadata": {},
   "source": [
    "Normalización"
   ]
  },
  {
   "cell_type": "code",
   "execution_count": 8,
   "id": "523f1f00",
   "metadata": {},
   "outputs": [],
   "source": [
    "normales_n = normales.copy()\n",
    "normales_n.altura = (normales.altura-altura_mean)/altura_std\n",
    "normales_n.edad = (normales.edad-edad_mean)/edad_std\n",
    "\n",
    "valtest_normales_n = valtest_normales.copy()\n",
    "valtest_normales_n.altura = (valtest_normales.altura-altura_mean)/altura_std\n",
    "valtest_normales_n.edad = (valtest_normales.edad-edad_mean)/edad_std\n",
    "\n",
    "valtest_anomalias_n = valtest_anomalias.copy()\n",
    "valtest_anomalias_n.altura = (valtest_anomalias.altura-altura_mean)/altura_std\n",
    "valtest_anomalias_n.edad = (valtest_anomalias.edad-edad_mean)/edad_std"
   ]
  },
  {
   "cell_type": "markdown",
   "id": "d550fce4",
   "metadata": {},
   "source": [
    "# 4. Entrenamiento"
   ]
  },
  {
   "cell_type": "code",
   "execution_count": 52,
   "id": "562235c9",
   "metadata": {},
   "outputs": [],
   "source": [
    "mu, sigma = estimateGaussian(normales_n)\n",
    "p = multivariateGaussian(normales_n, mu, sigma)"
   ]
  },
  {
   "cell_type": "code",
   "execution_count": 56,
   "id": "7664a57f",
   "metadata": {},
   "outputs": [],
   "source": [
    "p_cv = multivariateGaussian(valtest_normales_n, mu, sigma)\n",
    "f = np.zeros(len(valtest_normales_n)) == 0\n",
    "fscore, ep = selectThresholdByCV(p_cv, f)"
   ]
  },
  {
   "cell_type": "code",
   "execution_count": 57,
   "id": "58732312",
   "metadata": {},
   "outputs": [
    {
     "data": {
      "image/png": "[encoded data removed]",
      "text/plain": [
       "<Figure size 432x288 with 1 Axes>"
      ]
     },
     "metadata": {
      "needs_background": "light"
     },
     "output_type": "display_data"
    }
   ],
   "source": [
    "outliers = np.asarray(np.where(p < ep))[0]\n",
    "plt.figure()\n",
    "plt.xlabel(\"Latency (ms)\")\n",
    "plt.ylabel(\"Throughput (mb/s)\")\n",
    "plt.plot(normales.iloc[:,0], normales.iloc[:,1], \"bx\")\n",
    "plt.plot(normales.iloc[outliers,0], normales.iloc[outliers,1], \"ro\")\n",
    "plt.show()"
   ]
  }
 ],
 "metadata": {
  "kernelspec": {
   "display_name": "Python 3 (ipykernel)",
   "language": "python",
   "name": "python3"
  },
  "language_info": {
   "codemirror_mode": {
    "name": "ipython",
    "version": 3
   },
   "file_extension": ".py",
   "mimetype": "text/x-python",
   "name": "python",
   "nbconvert_exporter": "python",
   "pygments_lexer": "ipython3",
   "version": "3.9.12"
  }
 },
 "nbformat": 4,
 "nbformat_minor": 5
}
